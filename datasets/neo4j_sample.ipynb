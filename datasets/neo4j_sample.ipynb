{
  "nbformat": 4,
  "nbformat_minor": 0,
  "metadata": {
    "colab": {
      "provenance": []
    },
    "kernelspec": {
      "name": "python3",
      "display_name": "Python 3"
    },
    "language_info": {
      "name": "python"
    }
  },
  "cells": [
    {
      "cell_type": "code",
      "execution_count": null,
      "metadata": {
        "id": "xF3tylfTSrwW"
      },
      "outputs": [],
      "source": [
        "!pip install py2neo\n",
        "!pip install py2neo pandas\n",
        "!pip install neo4jupyter\n",
        "!pip install neo4j-driver\n",
        "!pip install neo4j"
      ]
    },
    {
      "cell_type": "code",
      "source": [
        "from py2neo import Graph, Node, Relationship\n",
        "import json"
      ],
      "metadata": {
        "id": "6IgyvwPPTrN7"
      },
      "execution_count": null,
      "outputs": []
    },
    {
      "cell_type": "code",
      "source": [
        "# Neo4J Sandbox https://neo4j.com/sandbox/"
      ],
      "metadata": {
        "id": "5JmNyck5SzWi"
      },
      "execution_count": null,
      "outputs": []
    },
    {
      "cell_type": "code",
      "source": [
        "# Set up Neo4j graph database\n",
        "uri = \"bolt://44.204.246.117:7687\"\n",
        "user = \"neo4j\"\n",
        "password = \"neutrons-brake-directives\"\n",
        "graph = Graph(uri, auth=(user, password))"
      ],
      "metadata": {
        "id": "Db336cvbSz47"
      },
      "execution_count": null,
      "outputs": []
    },
    {
      "cell_type": "code",
      "source": [
        "with open('significantAdverseDrugReactions.json', 'r') as f:\n",
        "    adr_data = json.load(f)\n",
        "\n",
        "with open('knownDrugsAggregated.json', 'r') as f:\n",
        "    drug_data = json.load(f)\n",
        "\n",
        "with open('mechanismOfAction.json', 'r') as f:\n",
        "    moa_data = json.load(f)\n",
        "\n",
        "with open('targets.json', 'r') as f:\n",
        "    target_data = json.load(f)"
      ],
      "metadata": {
        "id": "hrwZ1DK7T3k0"
      },
      "execution_count": null,
      "outputs": []
    },
    {
      "cell_type": "code",
      "source": [
        "# Create nodes for drugs\n",
        "drugs = {}\n",
        "for drug in drug_data:\n",
        "    if drug['drugId'] not in drugs:\n",
        "        drugs[drug['drugId']] = Node('Drug', id=drug['drugId'])\n",
        "graph.create(list(drugs.values()))"
      ],
      "metadata": {
        "id": "VwVPL2uWT63d"
      },
      "execution_count": null,
      "outputs": []
    },
    {
      "cell_type": "code",
      "source": [
        "pathways = {}\n",
        "for moa in moa_data:\n",
        "    for target in moa['targets']['list']:\n",
        "        if target['element'] in targets:\n",
        "            for chembl in moa['chemblIds']['list']:\n",
        "                if chembl['element'] not in pathways:\n",
        "                    pathways[chembl['element']] = Node('Pathway', id=chembl['element'])\n",
        "graph.create(list(pathways.values()))"
      ],
      "metadata": {
        "id": "F3LsSmfqUR6O"
      },
      "execution_count": null,
      "outputs": []
    },
    {
      "cell_type": "code",
      "source": [
        "for moa in moa_data:\n",
        "    for target in moa['targets']['list']:\n",
        "        if target['element'] in targets:\n",
        "            for chembl in moa['chemblIds']['list']:\n",
        "                if chembl['element'] in pathways:\n",
        "                    rel = Relationship(targets[target['element']], 'TARGETS', pathways[chembl['element']])\n",
        "                    graph.create(rel)"
      ],
      "metadata": {
        "id": "ifdWRyiZUTYm"
      },
      "execution_count": null,
      "outputs": []
    },
    {
      "cell_type": "code",
      "source": [
        "# Function Based"
      ],
      "metadata": {
        "id": "qJneeIrOUXPq"
      },
      "execution_count": null,
      "outputs": []
    },
    {
      "cell_type": "code",
      "source": [
        "def create_nodes(tx, data, label):\n",
        "    for row in data:\n",
        "        node = dict(row)\n",
        "        tx.run(f\"MERGE (n:{label} $props)\", props=node)"
      ],
      "metadata": {
        "id": "3QPIAIyVUcpA"
      },
      "execution_count": null,
      "outputs": []
    },
    {
      "cell_type": "code",
      "source": [
        "def create_relationships(tx):\n",
        "    tx.run(\"\"\"\n",
        "        MATCH (a:Chembl)-[:TARGETS]->(b:Target)-[:INVOLVES]->(c:ApprovedSymbol)-[:PARTICIPATES]->(d:Pathway)\n",
        "        MERGE (a)-[:CAUSES]->(e:Event)<-[:INVOLVES]-(b)\n",
        "        MERGE (a)-[:TARGETS]->(d)\n",
        "        MERGE (c)-[:INVOLVES]->(d)\n",
        "    \"\"\")"
      ],
      "metadata": {
        "id": "4fJygiC_UeaU"
      },
      "execution_count": null,
      "outputs": []
    },
    {
      "cell_type": "code",
      "source": [
        "driver = GraphDatabase.driver(\"bolt://localhost:7687\", auth=(\"neo4j\", \"password\"))"
      ],
      "metadata": {
        "id": "ewPhWqgtUgA-"
      },
      "execution_count": null,
      "outputs": []
    },
    {
      "cell_type": "code",
      "source": [
        "with driver.session() as session:\n",
        "    session.write_transaction(create_nodes, significant_adverse_drug_reactions, \"Event\")\n",
        "    session.write_transaction(create_nodes, known_drugs_aggregated, \"Chembl\")\n",
        "    session.write_transaction(create_nodes, mechanism_of_action, \"Action\")\n",
        "    session.write_transaction(create_nodes, targets, \"Target\")"
      ],
      "metadata": {
        "id": "BUevyctjUrc1"
      },
      "execution_count": null,
      "outputs": []
    },
    {
      "cell_type": "code",
      "source": [
        "driver.close()"
      ],
      "metadata": {
        "id": "ufkgKa1eUuZB"
      },
      "execution_count": null,
      "outputs": []
    },
    {
      "cell_type": "code",
      "source": [
        "# Define query to create nodes and relationships\n",
        "query = '''\n",
        "MERGE (a:Chemical {chembl_id: $a_id})\n",
        "MERGE (b:AdverseEvent {event: $b_event})\n",
        "MERGE (c:Pathway {pathway: $c_pathway})\n",
        "MERGE (d:GeneSymbol {approved_symbol: $d_symbol})\n",
        "MERGE (e:Target {target_id: $e_id})\n",
        "MERGE (a)-[:CAUSES]->(b)\n",
        "MERGE (a)-[:TARGETS]->(c)\n",
        "MERGE (d)-[:INVOLVES]->(e)\n",
        "MERGE (d)-[:PARTICIPATES]->(c)\n",
        "'''"
      ],
      "metadata": {
        "id": "waO1xbJIXQZo"
      },
      "execution_count": null,
      "outputs": []
    },
    {
      "cell_type": "code",
      "source": [
        "# Send data to Neo4j\n",
        "with driver.session() as session:\n",
        "    for sadr in sadr_data:\n",
        "        session.run(query, a_id=sadr[\"chembl_id\"], b_event=sadr[\"event\"], c_pathway=None, d_symbol=None, e_id=None)\n",
        "    for kda in kda_data:\n",
        "        session.run(query, a_id=kda[\"drugId\"], b_event=None, c_pathway=None, d_symbol=None, e_id=kda[\"targetId\"])\n",
        "    for moa in moa_data:\n",
        "        for chembl_id in moa[\"chemblIds\"][\"list\"]:\n",
        "            for target in moa[\"targets\"][\"list\"]:\n",
        "                session.run(query, a_id=chembl_id[\"element\"], b_event=None, c_pathway=None, d_symbol=None, e_id=target[\"element\"])\n",
        "    for target in target_data:\n",
        "        for pathway in target[\"pathways\"][\"list\"]:\n",
        "            session.run(query, a_id=None, b_event=None, c_pathway=pathway[\"element\"][\"pathway\"], d_symbol=target[\"approvedSymbol\"], e_id=target[\"id\"])"
      ],
      "metadata": {
        "id": "a-xbUWSSXRKV"
      },
      "execution_count": null,
      "outputs": []
    }
  ]
}