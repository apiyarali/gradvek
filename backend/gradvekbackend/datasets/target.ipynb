{
 "cells": [
  {
   "cell_type": "code",
   "execution_count": 14,
   "id": "7e83573b",
   "metadata": {},
   "outputs": [
    {
     "name": "stdout",
     "output_type": "stream",
     "text": [
      "Requirement already satisfied: pyarrow in /Library/Frameworks/Python.framework/Versions/3.11/lib/python3.11/site-packages (11.0.0)\n",
      "Requirement already satisfied: numpy>=1.16.6 in /Library/Frameworks/Python.framework/Versions/3.11/lib/python3.11/site-packages (from pyarrow) (1.24.2)\n"
     ]
    }
   ],
   "source": [
    "import pandas as pd\n",
    "import sys\n",
    "!{sys.executable} -m pip install pyarrow\n",
    "import pyarrow.parquet as pa"
   ]
  },
  {
   "cell_type": "code",
   "execution_count": 15,
   "id": "e81968ae",
   "metadata": {},
   "outputs": [],
   "source": [
    "parquet_file = \"opentarget/targets/part-00000-7c4d21db-d777-42ee-ae66-67426a0369f1-c000.snappy.parquet\""
   ]
  },
  {
   "cell_type": "code",
   "execution_count": 17,
   "id": "1debb891",
   "metadata": {},
   "outputs": [
    {
     "data": {
      "text/plain": [
       "<bound method NDFrame.to_hdf of                                           approvedName   approvedSymbol  \\\n",
       "0    chaperonin containing TCP1 subunit 8 like 1, p...          CCT8L1P   \n",
       "1                    TAR (HIV-1) RNA binding protein 1           TARBP1   \n",
       "2                          spectrin beta, erythrocytic             SPTB   \n",
       "3             SMG6 nonsense mediated mRNA decay factor             SMG6   \n",
       "4               adhesion G protein-coupled receptor L1           ADGRL1   \n",
       "..                                                 ...              ...   \n",
       "321                                   novel transcript  ENSG00000290546   \n",
       "322                                   novel transcript  ENSG00000290612   \n",
       "323                                   novel transcript  ENSG00000290667   \n",
       "324             serpin family A member 13, pseudogene        SERPINA13P   \n",
       "325                              DPY19L2 pseudogene 4         DPY19L2P4   \n",
       "\n",
       "                  id                                           pathways  \n",
       "0    ENSG00000020219                                               None  \n",
       "1    ENSG00000059588                                               None  \n",
       "2    ENSG00000070182  [{'pathwayId': 'R-HSA-6807878', 'pathway': 'CO...  \n",
       "3    ENSG00000070366  [{'pathwayId': 'R-HSA-975957', 'pathway': 'Non...  \n",
       "4    ENSG00000072071                                               None  \n",
       "..               ...                                                ...  \n",
       "321  ENSG00000290546                                               None  \n",
       "322  ENSG00000290612                                               None  \n",
       "323  ENSG00000290667                                               None  \n",
       "324  ENSG00000290676                                               None  \n",
       "325  ENSG00000291119                                               None  \n",
       "\n",
       "[326 rows x 4 columns]>"
      ]
     },
     "execution_count": 17,
     "metadata": {},
     "output_type": "execute_result"
    }
   ],
   "source": [
    "# pd.read_parquet(parquet_file, engine='auto')\n",
    "#approvedName\n",
    "#approvedSymbol\n",
    "#id\n",
    "#pathways\n",
    "df = pd.read_parquet(parquet_file, columns=['approvedName', 'approvedSymbol', \"id\", \"pathways\"])\n",
    "# DataFrame.to_csv\n",
    "df1 = df.to_hdf\n",
    "df1"
   ]
  },
  {
   "cell_type": "code",
   "execution_count": null,
   "id": "a5b7b5c6",
   "metadata": {},
   "outputs": [],
   "source": []
  }
 ],
 "metadata": {
  "kernelspec": {
   "display_name": "Python 3 (ipykernel)",
   "language": "python",
   "name": "python3"
  },
  "language_info": {
   "codemirror_mode": {
    "name": "ipython",
    "version": 3
   },
   "file_extension": ".py",
   "mimetype": "text/x-python",
   "name": "python",
   "nbconvert_exporter": "python",
   "pygments_lexer": "ipython3",
   "version": "3.11.2"
  }
 },
 "nbformat": 4,
 "nbformat_minor": 5
}
