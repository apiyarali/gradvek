{
  "cells": [
    {
      "cell_type": "code",
      "execution_count": 1,
      "metadata": {
        "id": "xF3tylfTSrwW"
      },
      "outputs": [
        {
          "name": "stdout",
          "output_type": "stream",
          "text": [
            "zsh:1: /usr/local/bin/pip: bad interpreter: /System/Library/Frameworks/Python.framework/Versions/2.7/Resources/Python.app/Contents/MacOS/Python: no such file or directory\n",
            "Collecting py2neo\n",
            "  Downloading py2neo-2021.2.3-py2.py3-none-any.whl (177 kB)\n",
            "\u001b[2K     \u001b[90m━━━━━━━━━━━━━━━━━━━━━━━━━━━━━━━━━━━━━━━\u001b[0m \u001b[32m177.0/177.0 kB\u001b[0m \u001b[31m1.8 MB/s\u001b[0m eta \u001b[36m0:00:00\u001b[0m00:01\u001b[0m00:01\u001b[0m\n",
            "\u001b[?25hRequirement already satisfied: certifi in /Library/Frameworks/Python.framework/Versions/3.11/lib/python3.11/site-packages (from py2neo) (2022.12.7)\n",
            "Collecting interchange~=2021.0.4\n",
            "  Downloading interchange-2021.0.4-py2.py3-none-any.whl (28 kB)\n",
            "Collecting monotonic\n",
            "  Downloading monotonic-1.6-py2.py3-none-any.whl (8.2 kB)\n",
            "Requirement already satisfied: packaging in /Library/Frameworks/Python.framework/Versions/3.11/lib/python3.11/site-packages (from py2neo) (23.0)\n",
            "Collecting pansi>=2020.7.3\n",
            "  Downloading pansi-2020.7.3-py2.py3-none-any.whl (10 kB)\n",
            "Requirement already satisfied: pygments>=2.0.0 in /Users/alyssabedard/Library/Python/3.11/lib/python/site-packages (from py2neo) (2.14.0)\n",
            "Requirement already satisfied: six>=1.15.0 in /Library/Frameworks/Python.framework/Versions/3.11/lib/python3.11/site-packages (from py2neo) (1.16.0)\n",
            "Requirement already satisfied: urllib3 in /Library/Frameworks/Python.framework/Versions/3.11/lib/python3.11/site-packages (from py2neo) (1.26.15)\n",
            "Requirement already satisfied: pytz in /Library/Frameworks/Python.framework/Versions/3.11/lib/python3.11/site-packages (from interchange~=2021.0.4->py2neo) (2023.3)\n",
            "Installing collected packages: monotonic, pansi, interchange, py2neo\n",
            "Successfully installed interchange-2021.0.4 monotonic-1.6 pansi-2020.7.3 py2neo-2021.2.3\n",
            "zsh:1: /usr/local/bin/pip: bad interpreter: /System/Library/Frameworks/Python.framework/Versions/2.7/Resources/Python.app/Contents/MacOS/Python: no such file or directory\n",
            "Requirement already satisfied: py2neo in /Library/Frameworks/Python.framework/Versions/3.11/lib/python3.11/site-packages (2021.2.3)\n",
            "Requirement already satisfied: pandas in /Library/Frameworks/Python.framework/Versions/3.11/lib/python3.11/site-packages (1.5.3)\n",
            "Requirement already satisfied: certifi in /Library/Frameworks/Python.framework/Versions/3.11/lib/python3.11/site-packages (from py2neo) (2022.12.7)\n",
            "Requirement already satisfied: interchange~=2021.0.4 in /Library/Frameworks/Python.framework/Versions/3.11/lib/python3.11/site-packages (from py2neo) (2021.0.4)\n",
            "Requirement already satisfied: monotonic in /Library/Frameworks/Python.framework/Versions/3.11/lib/python3.11/site-packages (from py2neo) (1.6)\n",
            "Requirement already satisfied: packaging in /Library/Frameworks/Python.framework/Versions/3.11/lib/python3.11/site-packages (from py2neo) (23.0)\n",
            "Requirement already satisfied: pansi>=2020.7.3 in /Library/Frameworks/Python.framework/Versions/3.11/lib/python3.11/site-packages (from py2neo) (2020.7.3)\n",
            "Requirement already satisfied: pygments>=2.0.0 in /Users/alyssabedard/Library/Python/3.11/lib/python/site-packages (from py2neo) (2.14.0)\n",
            "Requirement already satisfied: six>=1.15.0 in /Library/Frameworks/Python.framework/Versions/3.11/lib/python3.11/site-packages (from py2neo) (1.16.0)\n",
            "Requirement already satisfied: urllib3 in /Library/Frameworks/Python.framework/Versions/3.11/lib/python3.11/site-packages (from py2neo) (1.26.15)\n",
            "Requirement already satisfied: python-dateutil>=2.8.1 in /Library/Frameworks/Python.framework/Versions/3.11/lib/python3.11/site-packages (from pandas) (2.8.2)\n",
            "Requirement already satisfied: pytz>=2020.1 in /Library/Frameworks/Python.framework/Versions/3.11/lib/python3.11/site-packages (from pandas) (2023.3)\n",
            "Requirement already satisfied: numpy>=1.21.0 in /Library/Frameworks/Python.framework/Versions/3.11/lib/python3.11/site-packages (from pandas) (1.24.2)\n",
            "zsh:1: /usr/local/bin/pip: bad interpreter: /System/Library/Frameworks/Python.framework/Versions/2.7/Resources/Python.app/Contents/MacOS/Python: no such file or directory\n",
            "Collecting neo4jupyter\n",
            "  Downloading neo4jupyter-0.2.0.tar.gz (3.8 kB)\n",
            "  Preparing metadata (setup.py) ... \u001b[?25ldone\n",
            "\u001b[?25hRequirement already satisfied: IPython>=4.0.0 in /Users/alyssabedard/Library/Python/3.11/lib/python/site-packages (from neo4jupyter) (8.12.0)\n",
            "Collecting ipython-cypher>=0.2.4\n",
            "  Downloading ipython-cypher-0.2.6.tar.gz (13 kB)\n",
            "  Preparing metadata (setup.py) ... \u001b[?25ldone\n",
            "\u001b[?25hRequirement already satisfied: py2neo in /Library/Frameworks/Python.framework/Versions/3.11/lib/python3.11/site-packages (from neo4jupyter) (2021.2.3)\n",
            "Requirement already satisfied: backcall in /Users/alyssabedard/Library/Python/3.11/lib/python/site-packages (from IPython>=4.0.0->neo4jupyter) (0.2.0)\n",
            "Requirement already satisfied: decorator in /Users/alyssabedard/Library/Python/3.11/lib/python/site-packages (from IPython>=4.0.0->neo4jupyter) (5.1.1)\n",
            "Requirement already satisfied: jedi>=0.16 in /Users/alyssabedard/Library/Python/3.11/lib/python/site-packages (from IPython>=4.0.0->neo4jupyter) (0.18.2)\n",
            "Requirement already satisfied: matplotlib-inline in /Users/alyssabedard/Library/Python/3.11/lib/python/site-packages (from IPython>=4.0.0->neo4jupyter) (0.1.6)\n",
            "Requirement already satisfied: pickleshare in /Users/alyssabedard/Library/Python/3.11/lib/python/site-packages (from IPython>=4.0.0->neo4jupyter) (0.7.5)\n",
            "Requirement already satisfied: prompt-toolkit!=3.0.37,<3.1.0,>=3.0.30 in /Users/alyssabedard/Library/Python/3.11/lib/python/site-packages (from IPython>=4.0.0->neo4jupyter) (3.0.38)\n",
            "Requirement already satisfied: pygments>=2.4.0 in /Users/alyssabedard/Library/Python/3.11/lib/python/site-packages (from IPython>=4.0.0->neo4jupyter) (2.14.0)\n",
            "Requirement already satisfied: stack-data in /Users/alyssabedard/Library/Python/3.11/lib/python/site-packages (from IPython>=4.0.0->neo4jupyter) (0.6.2)\n",
            "Requirement already satisfied: traitlets>=5 in /Users/alyssabedard/Library/Python/3.11/lib/python/site-packages (from IPython>=4.0.0->neo4jupyter) (5.9.0)\n",
            "Requirement already satisfied: pexpect>4.3 in /Users/alyssabedard/Library/Python/3.11/lib/python/site-packages (from IPython>=4.0.0->neo4jupyter) (4.8.0)\n",
            "Requirement already satisfied: appnope in /Users/alyssabedard/Library/Python/3.11/lib/python/site-packages (from IPython>=4.0.0->neo4jupyter) (0.1.3)\n",
            "Collecting neo4jrestclient>=2.1.0\n",
            "  Downloading neo4jrestclient-2.1.1.tar.gz (73 kB)\n",
            "\u001b[2K     \u001b[90m━━━━━━━━━━━━━━━━━━━━━━━━━━━━━━━━━━━━━━━━\u001b[0m \u001b[32m73.0/73.0 kB\u001b[0m \u001b[31m1.1 MB/s\u001b[0m eta \u001b[36m0:00:00\u001b[0m00:01\u001b[0m\n",
            "\u001b[?25h  Preparing metadata (setup.py) ... \u001b[?25ldone\n",
            "\u001b[?25hCollecting prettytable\n",
            "  Downloading prettytable-3.7.0-py3-none-any.whl (27 kB)\n",
            "Requirement already satisfied: certifi in /Library/Frameworks/Python.framework/Versions/3.11/lib/python3.11/site-packages (from py2neo->neo4jupyter) (2022.12.7)\n",
            "Requirement already satisfied: interchange~=2021.0.4 in /Library/Frameworks/Python.framework/Versions/3.11/lib/python3.11/site-packages (from py2neo->neo4jupyter) (2021.0.4)\n",
            "Requirement already satisfied: monotonic in /Library/Frameworks/Python.framework/Versions/3.11/lib/python3.11/site-packages (from py2neo->neo4jupyter) (1.6)\n",
            "Requirement already satisfied: packaging in /Library/Frameworks/Python.framework/Versions/3.11/lib/python3.11/site-packages (from py2neo->neo4jupyter) (23.0)\n",
            "Requirement already satisfied: pansi>=2020.7.3 in /Library/Frameworks/Python.framework/Versions/3.11/lib/python3.11/site-packages (from py2neo->neo4jupyter) (2020.7.3)\n",
            "Requirement already satisfied: six>=1.15.0 in /Library/Frameworks/Python.framework/Versions/3.11/lib/python3.11/site-packages (from py2neo->neo4jupyter) (1.16.0)\n",
            "Requirement already satisfied: urllib3 in /Library/Frameworks/Python.framework/Versions/3.11/lib/python3.11/site-packages (from py2neo->neo4jupyter) (1.26.15)\n",
            "Requirement already satisfied: pytz in /Library/Frameworks/Python.framework/Versions/3.11/lib/python3.11/site-packages (from interchange~=2021.0.4->py2neo->neo4jupyter) (2023.3)\n",
            "Requirement already satisfied: parso<0.9.0,>=0.8.0 in /Users/alyssabedard/Library/Python/3.11/lib/python/site-packages (from jedi>=0.16->IPython>=4.0.0->neo4jupyter) (0.8.3)\n",
            "Requirement already satisfied: requests>=2.1.0 in /Library/Frameworks/Python.framework/Versions/3.11/lib/python3.11/site-packages (from neo4jrestclient>=2.1.0->ipython-cypher>=0.2.4->neo4jupyter) (2.28.2)\n",
            "Requirement already satisfied: ptyprocess>=0.5 in /Users/alyssabedard/Library/Python/3.11/lib/python/site-packages (from pexpect>4.3->IPython>=4.0.0->neo4jupyter) (0.7.0)\n",
            "Requirement already satisfied: wcwidth in /Users/alyssabedard/Library/Python/3.11/lib/python/site-packages (from prompt-toolkit!=3.0.37,<3.1.0,>=3.0.30->IPython>=4.0.0->neo4jupyter) (0.2.6)\n",
            "Requirement already satisfied: executing>=1.2.0 in /Users/alyssabedard/Library/Python/3.11/lib/python/site-packages (from stack-data->IPython>=4.0.0->neo4jupyter) (1.2.0)\n",
            "Requirement already satisfied: asttokens>=2.1.0 in /Users/alyssabedard/Library/Python/3.11/lib/python/site-packages (from stack-data->IPython>=4.0.0->neo4jupyter) (2.2.1)\n",
            "Requirement already satisfied: pure-eval in /Users/alyssabedard/Library/Python/3.11/lib/python/site-packages (from stack-data->IPython>=4.0.0->neo4jupyter) (0.2.2)\n",
            "Requirement already satisfied: charset-normalizer<4,>=2 in /Library/Frameworks/Python.framework/Versions/3.11/lib/python3.11/site-packages (from requests>=2.1.0->neo4jrestclient>=2.1.0->ipython-cypher>=0.2.4->neo4jupyter) (3.1.0)\n",
            "Requirement already satisfied: idna<4,>=2.5 in /Library/Frameworks/Python.framework/Versions/3.11/lib/python3.11/site-packages (from requests>=2.1.0->neo4jrestclient>=2.1.0->ipython-cypher>=0.2.4->neo4jupyter) (3.4)\n",
            "Installing collected packages: prettytable, neo4jrestclient, ipython-cypher, neo4jupyter\n",
            "\u001b[33m  DEPRECATION: neo4jrestclient is being installed using the legacy 'setup.py install' method, because it does not have a 'pyproject.toml' and the 'wheel' package is not installed. pip 23.1 will enforce this behaviour change. A possible replacement is to enable the '--use-pep517' option. Discussion can be found at https://github.com/pypa/pip/issues/8559\u001b[0m\u001b[33m\n",
            "\u001b[0m  Running setup.py install for neo4jrestclient ... \u001b[?25ldone\n",
            "\u001b[?25h\u001b[33m  DEPRECATION: ipython-cypher is being installed using the legacy 'setup.py install' method, because it does not have a 'pyproject.toml' and the 'wheel' package is not installed. pip 23.1 will enforce this behaviour change. A possible replacement is to enable the '--use-pep517' option. Discussion can be found at https://github.com/pypa/pip/issues/8559\u001b[0m\u001b[33m\n",
            "\u001b[0m  Running setup.py install for ipython-cypher ... \u001b[?25ldone\n",
            "\u001b[?25h\u001b[33m  DEPRECATION: neo4jupyter is being installed using the legacy 'setup.py install' method, because it does not have a 'pyproject.toml' and the 'wheel' package is not installed. pip 23.1 will enforce this behaviour change. A possible replacement is to enable the '--use-pep517' option. Discussion can be found at https://github.com/pypa/pip/issues/8559\u001b[0m\u001b[33m\n",
            "\u001b[0m  Running setup.py install for neo4jupyter ... \u001b[?25ldone\n",
            "\u001b[?25hSuccessfully installed ipython-cypher-0.2.6 neo4jrestclient-2.1.1 neo4jupyter-0.2.0 prettytable-3.7.0\n",
            "zsh:1: /usr/local/bin/pip: bad interpreter: /System/Library/Frameworks/Python.framework/Versions/2.7/Resources/Python.app/Contents/MacOS/Python: no such file or directory\n",
            "Collecting neo4j-driver\n",
            "  Downloading neo4j-driver-5.7.0.tar.gz (176 kB)\n",
            "\u001b[2K     \u001b[90m━━━━━━━━━━━━━━━━━━━━━━━━━━━━━━━━━━━━━━━\u001b[0m \u001b[32m176.4/176.4 kB\u001b[0m \u001b[31m1.8 MB/s\u001b[0m eta \u001b[36m0:00:00\u001b[0m00:01\u001b[0m00:01\u001b[0m\n",
            "\u001b[?25h  Installing build dependencies ... \u001b[?25ldone\n",
            "\u001b[?25h  Getting requirements to build wheel ... \u001b[?25ldone\n",
            "\u001b[?25h  Installing backend dependencies ... \u001b[?25ldone\n",
            "\u001b[?25h  Preparing metadata (pyproject.toml) ... \u001b[?25ldone\n",
            "\u001b[?25hRequirement already satisfied: pytz in /Library/Frameworks/Python.framework/Versions/3.11/lib/python3.11/site-packages (from neo4j-driver) (2023.3)\n",
            "Building wheels for collected packages: neo4j-driver\n",
            "  Building wheel for neo4j-driver (pyproject.toml) ... \u001b[?25ldone\n",
            "\u001b[?25h  Created wheel for neo4j-driver: filename=neo4j_driver-5.7.0-py3-none-any.whl size=244141 sha256=30e677cf24b77adbe783a4b0c433bc9c58415c7453bc4dc54899ed8972f4b65d\n",
            "  Stored in directory: /Users/alyssabedard/Library/Caches/pip/wheels/c5/e9/fd/3272403ba8998da47bc2ebb61ec8f3e9a0da0cb888acefc92d\n",
            "Successfully built neo4j-driver\n",
            "Installing collected packages: neo4j-driver\n",
            "Successfully installed neo4j-driver-5.7.0\n",
            "zsh:1: /usr/local/bin/pip: bad interpreter: /System/Library/Frameworks/Python.framework/Versions/2.7/Resources/Python.app/Contents/MacOS/Python: no such file or directory\n",
            "Requirement already satisfied: neo4j in /Library/Frameworks/Python.framework/Versions/3.11/lib/python3.11/site-packages (5.7.0)\n",
            "Requirement already satisfied: pytz in /Library/Frameworks/Python.framework/Versions/3.11/lib/python3.11/site-packages (from neo4j) (2023.3)\n"
          ]
        }
      ],
      "source": [
        "!pip install py2neo\n",
        "!pip install py2neo pandas\n",
        "!pip install neo4jupyter\n",
        "!pip install neo4j-driver\n",
        "!pip install neo4j"
      ]
    },
    {
      "cell_type": "code",
      "execution_count": 2,
      "metadata": {
        "id": "6IgyvwPPTrN7"
      },
      "outputs": [],
      "source": [
        "from py2neo import Graph, Node, Relationship\n",
        "import json"
      ]
    },
    {
      "cell_type": "code",
      "execution_count": 3,
      "metadata": {
        "id": "5JmNyck5SzWi"
      },
      "outputs": [],
      "source": [
        "# Neo4J Sandbox https://neo4j.com/sandbox/"
      ]
    },
    {
      "cell_type": "code",
      "execution_count": 4,
      "metadata": {
        "id": "Db336cvbSz47"
      },
      "outputs": [
        {
          "ename": "ConnectionUnavailable",
          "evalue": "Cannot open connection to ConnectionProfile('bolt://44.204.246.117:7687')",
          "output_type": "error",
          "traceback": [
            "\u001b[0;31m---------------------------------------------------------------------------\u001b[0m",
            "\u001b[0;31mIndexError\u001b[0m                                Traceback (most recent call last)",
            "File \u001b[0;32m/Library/Frameworks/Python.framework/Versions/3.11/lib/python3.11/site-packages/py2neo/client/__init__.py:806\u001b[0m, in \u001b[0;36mConnectionPool.acquire\u001b[0;34m(self, force_reset, can_overfill)\u001b[0m\n\u001b[1;32m    804\u001b[0m \u001b[39mtry\u001b[39;00m:\n\u001b[1;32m    805\u001b[0m     \u001b[39m# Plan A: select a free connection from the pool\u001b[39;00m\n\u001b[0;32m--> 806\u001b[0m     cx \u001b[39m=\u001b[39m \u001b[39mself\u001b[39;49m\u001b[39m.\u001b[39;49m_free_list\u001b[39m.\u001b[39;49mpopleft()\n\u001b[1;32m    807\u001b[0m \u001b[39mexcept\u001b[39;00m \u001b[39mIndexError\u001b[39;00m:\n",
            "\u001b[0;31mIndexError\u001b[0m: pop from an empty deque",
            "\nDuring handling of the above exception, another exception occurred:\n",
            "\u001b[0;31mTimeoutError\u001b[0m                              Traceback (most recent call last)",
            "File \u001b[0;32m/Library/Frameworks/Python.framework/Versions/3.11/lib/python3.11/site-packages/py2neo/wiring.py:62\u001b[0m, in \u001b[0;36mWire.open\u001b[0;34m(cls, address, timeout, keep_alive, on_broken)\u001b[0m\n\u001b[1;32m     61\u001b[0m \u001b[39mtry\u001b[39;00m:\n\u001b[0;32m---> 62\u001b[0m     s\u001b[39m.\u001b[39;49mconnect(address)\n\u001b[1;32m     63\u001b[0m \u001b[39mexcept\u001b[39;00m (\u001b[39mIOError\u001b[39;00m, \u001b[39mOSError\u001b[39;00m) \u001b[39mas\u001b[39;00m error:\n",
            "\u001b[0;31mTimeoutError\u001b[0m: [Errno 60] Operation timed out",
            "\nThe above exception was the direct cause of the following exception:\n",
            "\u001b[0;31mWireError\u001b[0m                                 Traceback (most recent call last)",
            "File \u001b[0;32m/Library/Frameworks/Python.framework/Versions/3.11/lib/python3.11/site-packages/py2neo/client/bolt.py:355\u001b[0m, in \u001b[0;36mBolt.open\u001b[0;34m(cls, profile, user_agent, on_release, on_broken)\u001b[0m\n\u001b[1;32m    354\u001b[0m \u001b[39mtry\u001b[39;00m:\n\u001b[0;32m--> 355\u001b[0m     wire \u001b[39m=\u001b[39m \u001b[39mcls\u001b[39;49m\u001b[39m.\u001b[39;49m_connect(profile, on_broken\u001b[39m=\u001b[39;49mon_broken)\n\u001b[1;32m    356\u001b[0m     protocol_version \u001b[39m=\u001b[39m \u001b[39mcls\u001b[39m\u001b[39m.\u001b[39m_handshake(wire)\n",
            "File \u001b[0;32m/Library/Frameworks/Python.framework/Versions/3.11/lib/python3.11/site-packages/py2neo/client/bolt.py:369\u001b[0m, in \u001b[0;36mBolt._connect\u001b[0;34m(cls, profile, on_broken)\u001b[0m\n\u001b[1;32m    368\u001b[0m log\u001b[39m.\u001b[39mdebug(\u001b[39m\"\u001b[39m\u001b[39m[#\u001b[39m\u001b[39m%04X\u001b[39;00m\u001b[39m] C: (Dialing <\u001b[39m\u001b[39m%s\u001b[39;00m\u001b[39m>)\u001b[39m\u001b[39m\"\u001b[39m, \u001b[39m0\u001b[39m, profile\u001b[39m.\u001b[39maddress)\n\u001b[0;32m--> 369\u001b[0m wire \u001b[39m=\u001b[39m Wire\u001b[39m.\u001b[39;49mopen(profile\u001b[39m.\u001b[39;49maddress, keep_alive\u001b[39m=\u001b[39;49m\u001b[39mTrue\u001b[39;49;00m, on_broken\u001b[39m=\u001b[39;49mon_broken)\n\u001b[1;32m    370\u001b[0m local_port \u001b[39m=\u001b[39m wire\u001b[39m.\u001b[39mlocal_address\u001b[39m.\u001b[39mport_number\n",
            "File \u001b[0;32m/Library/Frameworks/Python.framework/Versions/3.11/lib/python3.11/site-packages/py2neo/wiring.py:64\u001b[0m, in \u001b[0;36mWire.open\u001b[0;34m(cls, address, timeout, keep_alive, on_broken)\u001b[0m\n\u001b[1;32m     63\u001b[0m \u001b[39mexcept\u001b[39;00m (\u001b[39mIOError\u001b[39;00m, \u001b[39mOSError\u001b[39;00m) \u001b[39mas\u001b[39;00m error:\n\u001b[0;32m---> 64\u001b[0m     raise_from(WireError(\u001b[39m\"\u001b[39;49m\u001b[39mCannot connect to \u001b[39;49m\u001b[39m%r\u001b[39;49;00m\u001b[39m\"\u001b[39;49m \u001b[39m%\u001b[39;49m (address,)), error)\n\u001b[1;32m     65\u001b[0m \u001b[39mreturn\u001b[39;00m \u001b[39mcls\u001b[39m(s, on_broken\u001b[39m=\u001b[39mon_broken)\n",
            "File \u001b[0;32m<string>:3\u001b[0m, in \u001b[0;36mraise_from\u001b[0;34m(value, from_value)\u001b[0m\n",
            "\u001b[0;31mWireError\u001b[0m: Cannot connect to IPv4Address(('44.204.246.117', 7687))",
            "\nThe above exception was the direct cause of the following exception:\n",
            "\u001b[0;31mConnectionUnavailable\u001b[0m                     Traceback (most recent call last)",
            "Cell \u001b[0;32mIn[4], line 5\u001b[0m\n\u001b[1;32m      3\u001b[0m user \u001b[39m=\u001b[39m \u001b[39m\"\u001b[39m\u001b[39mneo4j\u001b[39m\u001b[39m\"\u001b[39m\n\u001b[1;32m      4\u001b[0m password \u001b[39m=\u001b[39m \u001b[39m\"\u001b[39m\u001b[39mneutrons-brake-directives\u001b[39m\u001b[39m\"\u001b[39m\n\u001b[0;32m----> 5\u001b[0m graph \u001b[39m=\u001b[39m Graph(uri, auth\u001b[39m=\u001b[39;49m(user, password))\n",
            "File \u001b[0;32m/Library/Frameworks/Python.framework/Versions/3.11/lib/python3.11/site-packages/py2neo/database.py:288\u001b[0m, in \u001b[0;36mGraph.__init__\u001b[0;34m(self, profile, name, **settings)\u001b[0m\n\u001b[1;32m    287\u001b[0m \u001b[39mdef\u001b[39;00m \u001b[39m__init__\u001b[39m(\u001b[39mself\u001b[39m, profile\u001b[39m=\u001b[39m\u001b[39mNone\u001b[39;00m, name\u001b[39m=\u001b[39m\u001b[39mNone\u001b[39;00m, \u001b[39m*\u001b[39m\u001b[39m*\u001b[39msettings):\n\u001b[0;32m--> 288\u001b[0m     \u001b[39mself\u001b[39m\u001b[39m.\u001b[39mservice \u001b[39m=\u001b[39m GraphService(profile, \u001b[39m*\u001b[39;49m\u001b[39m*\u001b[39;49msettings)\n\u001b[1;32m    289\u001b[0m     \u001b[39mself\u001b[39m\u001b[39m.\u001b[39m\u001b[39m__name__\u001b[39m \u001b[39m=\u001b[39m name\n\u001b[1;32m    290\u001b[0m     \u001b[39mself\u001b[39m\u001b[39m.\u001b[39mschema \u001b[39m=\u001b[39m Schema(\u001b[39mself\u001b[39m)\n",
            "File \u001b[0;32m/Library/Frameworks/Python.framework/Versions/3.11/lib/python3.11/site-packages/py2neo/database.py:119\u001b[0m, in \u001b[0;36mGraphService.__init__\u001b[0;34m(self, profile, **settings)\u001b[0m\n\u001b[1;32m    116\u001b[0m \u001b[39mif\u001b[39;00m connector_settings[\u001b[39m\"\u001b[39m\u001b[39minit_size\u001b[39m\u001b[39m\"\u001b[39m] \u001b[39mis\u001b[39;00m \u001b[39mNone\u001b[39;00m \u001b[39mand\u001b[39;00m \u001b[39mnot\u001b[39;00m profile\u001b[39m.\u001b[39mrouting:\n\u001b[1;32m    117\u001b[0m     \u001b[39m# Ensures credentials are checked on construction\u001b[39;00m\n\u001b[1;32m    118\u001b[0m     connector_settings[\u001b[39m\"\u001b[39m\u001b[39minit_size\u001b[39m\u001b[39m\"\u001b[39m] \u001b[39m=\u001b[39m \u001b[39m1\u001b[39m\n\u001b[0;32m--> 119\u001b[0m \u001b[39mself\u001b[39m\u001b[39m.\u001b[39m_connector \u001b[39m=\u001b[39m Connector(profile, \u001b[39m*\u001b[39;49m\u001b[39m*\u001b[39;49mconnector_settings)\n\u001b[1;32m    120\u001b[0m \u001b[39mself\u001b[39m\u001b[39m.\u001b[39m_graphs \u001b[39m=\u001b[39m {}\n",
            "File \u001b[0;32m/Library/Frameworks/Python.framework/Versions/3.11/lib/python3.11/site-packages/py2neo/client/__init__.py:960\u001b[0m, in \u001b[0;36mConnector.__init__\u001b[0;34m(self, profile, user_agent, init_size, max_size, max_age, routing_refresh_ttl)\u001b[0m\n\u001b[1;32m    958\u001b[0m \u001b[39melse\u001b[39;00m:\n\u001b[1;32m    959\u001b[0m     \u001b[39mself\u001b[39m\u001b[39m.\u001b[39m_router \u001b[39m=\u001b[39m \u001b[39mNone\u001b[39;00m\n\u001b[0;32m--> 960\u001b[0m \u001b[39mself\u001b[39;49m\u001b[39m.\u001b[39;49m_add_pools(\u001b[39m*\u001b[39;49m\u001b[39mself\u001b[39;49m\u001b[39m.\u001b[39;49m_initial_routers)\n",
            "File \u001b[0;32m/Library/Frameworks/Python.framework/Versions/3.11/lib/python3.11/site-packages/py2neo/client/__init__.py:982\u001b[0m, in \u001b[0;36mConnector._add_pools\u001b[0;34m(self, *profiles)\u001b[0m\n\u001b[1;32m    980\u001b[0m     \u001b[39mcontinue\u001b[39;00m\n\u001b[1;32m    981\u001b[0m log\u001b[39m.\u001b[39mdebug(\u001b[39m\"\u001b[39m\u001b[39mAdding connection pool for profile \u001b[39m\u001b[39m%r\u001b[39;00m\u001b[39m\"\u001b[39m, profile)\n\u001b[0;32m--> 982\u001b[0m pool \u001b[39m=\u001b[39m ConnectionPool\u001b[39m.\u001b[39;49mopen(\n\u001b[1;32m    983\u001b[0m     profile,\n\u001b[1;32m    984\u001b[0m     user_agent\u001b[39m=\u001b[39;49m\u001b[39mself\u001b[39;49m\u001b[39m.\u001b[39;49m_user_agent,\n\u001b[1;32m    985\u001b[0m     init_size\u001b[39m=\u001b[39;49m\u001b[39mself\u001b[39;49m\u001b[39m.\u001b[39;49m_init_size,\n\u001b[1;32m    986\u001b[0m     max_size\u001b[39m=\u001b[39;49m\u001b[39mself\u001b[39;49m\u001b[39m.\u001b[39;49m_max_size,\n\u001b[1;32m    987\u001b[0m     max_age\u001b[39m=\u001b[39;49m\u001b[39mself\u001b[39;49m\u001b[39m.\u001b[39;49m_max_age,\n\u001b[1;32m    988\u001b[0m     on_broken\u001b[39m=\u001b[39;49m\u001b[39mself\u001b[39;49m\u001b[39m.\u001b[39;49m_on_broken)\n\u001b[1;32m    989\u001b[0m \u001b[39mself\u001b[39m\u001b[39m.\u001b[39m_pools[profile] \u001b[39m=\u001b[39m pool\n",
            "File \u001b[0;32m/Library/Frameworks/Python.framework/Versions/3.11/lib/python3.11/site-packages/py2neo/client/__init__.py:649\u001b[0m, in \u001b[0;36mConnectionPool.open\u001b[0;34m(cls, profile, user_agent, init_size, max_size, max_age, on_broken)\u001b[0m\n\u001b[1;32m    627\u001b[0m \u001b[39m\u001b[39m\u001b[39m\"\"\" Create a new connection pool, with an option to seed one\u001b[39;00m\n\u001b[1;32m    628\u001b[0m \u001b[39mor more initial connections.\u001b[39;00m\n\u001b[1;32m    629\u001b[0m \n\u001b[0;32m   (...)\u001b[0m\n\u001b[1;32m    646\u001b[0m \u001b[39m    scheme\u001b[39;00m\n\u001b[1;32m    647\u001b[0m \u001b[39m\"\"\"\u001b[39;00m\n\u001b[1;32m    648\u001b[0m pool \u001b[39m=\u001b[39m \u001b[39mcls\u001b[39m(profile, user_agent, max_size, max_age, on_broken)\n\u001b[0;32m--> 649\u001b[0m seeds \u001b[39m=\u001b[39m [pool\u001b[39m.\u001b[39;49macquire() \u001b[39mfor\u001b[39;49;00m _ \u001b[39min\u001b[39;49;00m \u001b[39mrange\u001b[39;49m(init_size \u001b[39mor\u001b[39;49;00m \u001b[39mcls\u001b[39;49m\u001b[39m.\u001b[39;49mdefault_init_size)]\n\u001b[1;32m    650\u001b[0m \u001b[39mfor\u001b[39;00m seed \u001b[39min\u001b[39;00m seeds:\n\u001b[1;32m    651\u001b[0m     seed\u001b[39m.\u001b[39mrelease()\n",
            "File \u001b[0;32m/Library/Frameworks/Python.framework/Versions/3.11/lib/python3.11/site-packages/py2neo/client/__init__.py:649\u001b[0m, in \u001b[0;36m<listcomp>\u001b[0;34m(.0)\u001b[0m\n\u001b[1;32m    627\u001b[0m \u001b[39m\u001b[39m\u001b[39m\"\"\" Create a new connection pool, with an option to seed one\u001b[39;00m\n\u001b[1;32m    628\u001b[0m \u001b[39mor more initial connections.\u001b[39;00m\n\u001b[1;32m    629\u001b[0m \n\u001b[0;32m   (...)\u001b[0m\n\u001b[1;32m    646\u001b[0m \u001b[39m    scheme\u001b[39;00m\n\u001b[1;32m    647\u001b[0m \u001b[39m\"\"\"\u001b[39;00m\n\u001b[1;32m    648\u001b[0m pool \u001b[39m=\u001b[39m \u001b[39mcls\u001b[39m(profile, user_agent, max_size, max_age, on_broken)\n\u001b[0;32m--> 649\u001b[0m seeds \u001b[39m=\u001b[39m [pool\u001b[39m.\u001b[39;49macquire() \u001b[39mfor\u001b[39;00m _ \u001b[39min\u001b[39;00m \u001b[39mrange\u001b[39m(init_size \u001b[39mor\u001b[39;00m \u001b[39mcls\u001b[39m\u001b[39m.\u001b[39mdefault_init_size)]\n\u001b[1;32m    650\u001b[0m \u001b[39mfor\u001b[39;00m seed \u001b[39min\u001b[39;00m seeds:\n\u001b[1;32m    651\u001b[0m     seed\u001b[39m.\u001b[39mrelease()\n",
            "File \u001b[0;32m/Library/Frameworks/Python.framework/Versions/3.11/lib/python3.11/site-packages/py2neo/client/__init__.py:813\u001b[0m, in \u001b[0;36mConnectionPool.acquire\u001b[0;34m(self, force_reset, can_overfill)\u001b[0m\n\u001b[1;32m    807\u001b[0m \u001b[39mexcept\u001b[39;00m \u001b[39mIndexError\u001b[39;00m:\n\u001b[1;32m    808\u001b[0m     \u001b[39mif\u001b[39;00m \u001b[39mself\u001b[39m\u001b[39m.\u001b[39m_has_capacity() \u001b[39mor\u001b[39;00m can_overfill:\n\u001b[1;32m    809\u001b[0m         \u001b[39m# Plan B: if the pool isn't full, open\u001b[39;00m\n\u001b[1;32m    810\u001b[0m         \u001b[39m# a new connection. This may raise a\u001b[39;00m\n\u001b[1;32m    811\u001b[0m         \u001b[39m# ConnectionUnavailable exception, which\u001b[39;00m\n\u001b[1;32m    812\u001b[0m         \u001b[39m# should bubble up to the caller.\u001b[39;00m\n\u001b[0;32m--> 813\u001b[0m         cx \u001b[39m=\u001b[39m \u001b[39mself\u001b[39;49m\u001b[39m.\u001b[39;49m_connect()\n\u001b[1;32m    814\u001b[0m         \u001b[39mif\u001b[39;00m cx\u001b[39m.\u001b[39msupports_multi():\n\u001b[1;32m    815\u001b[0m             \u001b[39mself\u001b[39m\u001b[39m.\u001b[39m_supports_multi \u001b[39m=\u001b[39m \u001b[39mTrue\u001b[39;00m\n",
            "File \u001b[0;32m/Library/Frameworks/Python.framework/Versions/3.11/lib/python3.11/site-packages/py2neo/client/__init__.py:764\u001b[0m, in \u001b[0;36mConnectionPool._connect\u001b[0;34m(self)\u001b[0m\n\u001b[1;32m    761\u001b[0m \u001b[39mdef\u001b[39;00m \u001b[39m_connect\u001b[39m(\u001b[39mself\u001b[39m):\n\u001b[1;32m    762\u001b[0m \u001b[39m    \u001b[39m\u001b[39m\"\"\" Open and return a new connection.\u001b[39;00m\n\u001b[1;32m    763\u001b[0m \u001b[39m    \"\"\"\u001b[39;00m\n\u001b[0;32m--> 764\u001b[0m     cx \u001b[39m=\u001b[39m Connection\u001b[39m.\u001b[39;49mopen(\u001b[39mself\u001b[39;49m\u001b[39m.\u001b[39;49mprofile, user_agent\u001b[39m=\u001b[39;49m\u001b[39mself\u001b[39;49m\u001b[39m.\u001b[39;49muser_agent,\n\u001b[1;32m    765\u001b[0m                          on_release\u001b[39m=\u001b[39;49m\u001b[39mlambda\u001b[39;49;00m c: \u001b[39mself\u001b[39;49m\u001b[39m.\u001b[39;49mrelease(c),\n\u001b[1;32m    766\u001b[0m                          on_broken\u001b[39m=\u001b[39;49m\u001b[39mlambda\u001b[39;49;00m msg: \u001b[39mself\u001b[39;49m\u001b[39m.\u001b[39;49m__on_broken(msg))\n\u001b[1;32m    767\u001b[0m     \u001b[39mself\u001b[39m\u001b[39m.\u001b[39m_server_agent \u001b[39m=\u001b[39m cx\u001b[39m.\u001b[39mserver_agent\n\u001b[1;32m    768\u001b[0m     \u001b[39mreturn\u001b[39;00m cx\n",
            "File \u001b[0;32m/Library/Frameworks/Python.framework/Versions/3.11/lib/python3.11/site-packages/py2neo/client/__init__.py:174\u001b[0m, in \u001b[0;36mConnection.open\u001b[0;34m(cls, profile, user_agent, on_release, on_broken)\u001b[0m\n\u001b[1;32m    172\u001b[0m \u001b[39mif\u001b[39;00m profile\u001b[39m.\u001b[39mprotocol \u001b[39m==\u001b[39m \u001b[39m\"\u001b[39m\u001b[39mbolt\u001b[39m\u001b[39m\"\u001b[39m:\n\u001b[1;32m    173\u001b[0m     \u001b[39mfrom\u001b[39;00m \u001b[39mpy2neo\u001b[39;00m\u001b[39m.\u001b[39;00m\u001b[39mclient\u001b[39;00m\u001b[39m.\u001b[39;00m\u001b[39mbolt\u001b[39;00m \u001b[39mimport\u001b[39;00m Bolt\n\u001b[0;32m--> 174\u001b[0m     \u001b[39mreturn\u001b[39;00m Bolt\u001b[39m.\u001b[39;49mopen(profile, user_agent\u001b[39m=\u001b[39;49muser_agent,\n\u001b[1;32m    175\u001b[0m                      on_release\u001b[39m=\u001b[39;49mon_release, on_broken\u001b[39m=\u001b[39;49mon_broken)\n\u001b[1;32m    176\u001b[0m \u001b[39melif\u001b[39;00m profile\u001b[39m.\u001b[39mprotocol \u001b[39m==\u001b[39m \u001b[39m\"\u001b[39m\u001b[39mhttp\u001b[39m\u001b[39m\"\u001b[39m:\n\u001b[1;32m    177\u001b[0m     \u001b[39mfrom\u001b[39;00m \u001b[39mpy2neo\u001b[39;00m\u001b[39m.\u001b[39;00m\u001b[39mclient\u001b[39;00m\u001b[39m.\u001b[39;00m\u001b[39mhttp\u001b[39;00m \u001b[39mimport\u001b[39;00m HTTP\n",
            "File \u001b[0;32m/Library/Frameworks/Python.framework/Versions/3.11/lib/python3.11/site-packages/py2neo/client/bolt.py:364\u001b[0m, in \u001b[0;36mBolt.open\u001b[0;34m(cls, profile, user_agent, on_release, on_broken)\u001b[0m\n\u001b[1;32m    362\u001b[0m     \u001b[39mreturn\u001b[39;00m bolt\n\u001b[1;32m    363\u001b[0m \u001b[39mexcept\u001b[39;00m (\u001b[39mTypeError\u001b[39;00m, WireError) \u001b[39mas\u001b[39;00m error:\n\u001b[0;32m--> 364\u001b[0m     raise_from(ConnectionUnavailable(\u001b[39m\"\u001b[39;49m\u001b[39mCannot open connection to \u001b[39;49m\u001b[39m%r\u001b[39;49;00m\u001b[39m\"\u001b[39;49m \u001b[39m%\u001b[39;49m profile), error)\n",
            "File \u001b[0;32m<string>:3\u001b[0m, in \u001b[0;36mraise_from\u001b[0;34m(value, from_value)\u001b[0m\n",
            "\u001b[0;31mConnectionUnavailable\u001b[0m: Cannot open connection to ConnectionProfile('bolt://44.204.246.117:7687')"
          ]
        }
      ],
      "source": [
        "# Set up Neo4j graph database\n",
        "uri = \"bolt://44.204.246.117:7687\"\n",
        "user = \"neo4j\"\n",
        "password = \"neutrons-brake-directives\"\n",
        "graph = Graph(uri, auth=(user, password))"
      ]
    },
    {
      "cell_type": "code",
      "execution_count": null,
      "metadata": {
        "id": "hrwZ1DK7T3k0"
      },
      "outputs": [],
      "source": [
        "with open('significantAdverseDrugReactions.json', 'r') as f:\n",
        "    adr_data = json.load(f)\n",
        "\n",
        "with open('knownDrugsAggregated.json', 'r') as f:\n",
        "    drug_data = json.load(f)\n",
        "\n",
        "with open('mechanismOfAction.json', 'r') as f:\n",
        "    moa_data = json.load(f)\n",
        "\n",
        "with open('targets.json', 'r') as f:\n",
        "    target_data = json.load(f)"
      ]
    },
    {
      "cell_type": "code",
      "execution_count": null,
      "metadata": {
        "id": "VwVPL2uWT63d"
      },
      "outputs": [],
      "source": [
        "# Create nodes for drugs\n",
        "drugs = {}\n",
        "for drug in drug_data:\n",
        "    if drug['drugId'] not in drugs:\n",
        "        drugs[drug['drugId']] = Node('Drug', id=drug['drugId'])\n",
        "graph.create(list(drugs.values()))"
      ]
    },
    {
      "cell_type": "code",
      "execution_count": null,
      "metadata": {
        "id": "F3LsSmfqUR6O"
      },
      "outputs": [],
      "source": [
        "pathways = {}\n",
        "for moa in moa_data:\n",
        "    for target in moa['targets']['list']:\n",
        "        if target['element'] in targets:\n",
        "            for chembl in moa['chemblIds']['list']:\n",
        "                if chembl['element'] not in pathways:\n",
        "                    pathways[chembl['element']] = Node('Pathway', id=chembl['element'])\n",
        "graph.create(list(pathways.values()))"
      ]
    },
    {
      "cell_type": "code",
      "execution_count": null,
      "metadata": {
        "id": "ifdWRyiZUTYm"
      },
      "outputs": [],
      "source": [
        "for moa in moa_data:\n",
        "    for target in moa['targets']['list']:\n",
        "        if target['element'] in targets:\n",
        "            for chembl in moa['chemblIds']['list']:\n",
        "                if chembl['element'] in pathways:\n",
        "                    rel = Relationship(targets[target['element']], 'TARGETS', pathways[chembl['element']])\n",
        "                    graph.create(rel)"
      ]
    },
    {
      "cell_type": "code",
      "execution_count": null,
      "metadata": {
        "id": "qJneeIrOUXPq"
      },
      "outputs": [],
      "source": [
        "# Function Based"
      ]
    },
    {
      "cell_type": "code",
      "execution_count": null,
      "metadata": {
        "id": "3QPIAIyVUcpA"
      },
      "outputs": [],
      "source": [
        "def create_nodes(tx, data, label):\n",
        "    for row in data:\n",
        "        node = dict(row)\n",
        "        tx.run(f\"MERGE (n:{label} $props)\", props=node)"
      ]
    },
    {
      "cell_type": "code",
      "execution_count": null,
      "metadata": {
        "id": "4fJygiC_UeaU"
      },
      "outputs": [],
      "source": [
        "def create_relationships(tx):\n",
        "    tx.run(\"\"\"\n",
        "        MATCH (a:Chembl)-[:TARGETS]->(b:Target)-[:INVOLVES]->(c:ApprovedSymbol)-[:PARTICIPATES]->(d:Pathway)\n",
        "        MERGE (a)-[:CAUSES]->(e:Event)<-[:INVOLVES]-(b)\n",
        "        MERGE (a)-[:TARGETS]->(d)\n",
        "        MERGE (c)-[:INVOLVES]->(d)\n",
        "    \"\"\")"
      ]
    },
    {
      "cell_type": "code",
      "execution_count": null,
      "metadata": {
        "id": "ewPhWqgtUgA-"
      },
      "outputs": [],
      "source": [
        "driver = GraphDatabase.driver(\"bolt://localhost:7687\", auth=(\"neo4j\", \"password\"))"
      ]
    },
    {
      "cell_type": "code",
      "execution_count": null,
      "metadata": {
        "id": "BUevyctjUrc1"
      },
      "outputs": [],
      "source": [
        "with driver.session() as session:\n",
        "    session.write_transaction(create_nodes, significant_adverse_drug_reactions, \"Event\")\n",
        "    session.write_transaction(create_nodes, known_drugs_aggregated, \"Chembl\")\n",
        "    session.write_transaction(create_nodes, mechanism_of_action, \"Action\")\n",
        "    session.write_transaction(create_nodes, targets, \"Target\")"
      ]
    },
    {
      "cell_type": "code",
      "execution_count": null,
      "metadata": {
        "id": "ufkgKa1eUuZB"
      },
      "outputs": [],
      "source": [
        "driver.close()"
      ]
    },
    {
      "cell_type": "code",
      "execution_count": null,
      "metadata": {
        "id": "waO1xbJIXQZo"
      },
      "outputs": [],
      "source": [
        "# Define query to create nodes and relationships\n",
        "query = '''\n",
        "MERGE (a:Chemical {chembl_id: $a_id})\n",
        "MERGE (b:AdverseEvent {event: $b_event})\n",
        "MERGE (c:Pathway {pathway: $c_pathway})\n",
        "MERGE (d:GeneSymbol {approved_symbol: $d_symbol})\n",
        "MERGE (e:Target {target_id: $e_id})\n",
        "MERGE (a)-[:CAUSES]->(b)\n",
        "MERGE (a)-[:TARGETS]->(c)\n",
        "MERGE (d)-[:INVOLVES]->(e)\n",
        "MERGE (d)-[:PARTICIPATES]->(c)\n",
        "'''"
      ]
    },
    {
      "cell_type": "code",
      "execution_count": null,
      "metadata": {
        "id": "a-xbUWSSXRKV"
      },
      "outputs": [],
      "source": [
        "# Send data to Neo4j\n",
        "with driver.session() as session:\n",
        "    for sadr in sadr_data:\n",
        "        session.run(query, a_id=sadr[\"chembl_id\"], b_event=sadr[\"event\"], c_pathway=None, d_symbol=None, e_id=None)\n",
        "    for kda in kda_data:\n",
        "        session.run(query, a_id=kda[\"drugId\"], b_event=None, c_pathway=None, d_symbol=None, e_id=kda[\"targetId\"])\n",
        "    for moa in moa_data:\n",
        "        for chembl_id in moa[\"chemblIds\"][\"list\"]:\n",
        "            for target in moa[\"targets\"][\"list\"]:\n",
        "                session.run(query, a_id=chembl_id[\"element\"], b_event=None, c_pathway=None, d_symbol=None, e_id=target[\"element\"])\n",
        "    for target in target_data:\n",
        "        for pathway in target[\"pathways\"][\"list\"]:\n",
        "            session.run(query, a_id=None, b_event=None, c_pathway=pathway[\"element\"][\"pathway\"], d_symbol=target[\"approvedSymbol\"], e_id=target[\"id\"])"
      ]
    }
  ],
  "metadata": {
    "colab": {
      "provenance": []
    },
    "kernelspec": {
      "display_name": "Python 3",
      "name": "python3"
    },
    "language_info": {
      "codemirror_mode": {
        "name": "ipython",
        "version": 3
      },
      "file_extension": ".py",
      "mimetype": "text/x-python",
      "name": "python",
      "nbconvert_exporter": "python",
      "pygments_lexer": "ipython3",
      "version": "3.11.2"
    }
  },
  "nbformat": 4,
  "nbformat_minor": 0
}
